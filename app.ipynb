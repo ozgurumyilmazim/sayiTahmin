{
 "cells": [
  {
   "cell_type": "code",
   "execution_count": 1,
   "id": "2c9ded13-4ba6-473e-ba4d-b7b0947cb7bc",
   "metadata": {},
   "outputs": [
    {
     "name": "stdout",
     "output_type": "stream",
     "text": [
      "1 ile 100 arasında bir sayı tuttum. Bakalım bulabilecek misin?\n"
     ]
    },
    {
     "name": "stdin",
     "output_type": "stream",
     "text": [
      "1. tahmininizi girin:  50\n"
     ]
    },
    {
     "name": "stdout",
     "output_type": "stream",
     "text": [
      "Daha yüksek bir sayı tahmin et.\n"
     ]
    },
    {
     "name": "stdin",
     "output_type": "stream",
     "text": [
      "2. tahmininizi girin:  75\n"
     ]
    },
    {
     "name": "stdout",
     "output_type": "stream",
     "text": [
      "Daha yüksek bir sayı tahmin et.\n"
     ]
    },
    {
     "name": "stdin",
     "output_type": "stream",
     "text": [
      "3. tahmininizi girin:  95\n"
     ]
    },
    {
     "name": "stdout",
     "output_type": "stream",
     "text": [
      "Daha düşük bir sayı tahmin et.\n",
      "Üzgünüm, deneme haklarınız bitti. Tutulan sayı: 76\n"
     ]
    }
   ],
   "source": [
    "import random\n",
    "\n",
    "def tahmin_oyunu():\n",
    "    # Rastgele bir sayı tut\n",
    "    tutulan_sayi = random.randint(1, 100)\n",
    "    deneme_hakki = 3\n",
    "    print(\"1 ile 100 arasında bir sayı tuttum. Bakalım bulabilecek misin?\")\n",
    "    \n",
    "    for deneme in range(deneme_hakki):\n",
    "        try:\n",
    "            tahmin = int(input(f\"{deneme + 1}. tahmininizi girin: \"))\n",
    "            \n",
    "            if tahmin < 1 or tahmin > 100:\n",
    "                print(\"Lütfen 1 ile 100 arasında bir sayı girin.\")\n",
    "                continue\n",
    "            \n",
    "            if tahmin < tutulan_sayi:\n",
    "                print(\"Daha yüksek bir sayı tahmin et.\")\n",
    "            elif tahmin > tutulan_sayi:\n",
    "                print(\"Daha düşük bir sayı tahmin et.\")\n",
    "            else:\n",
    "                print(f\"Tebrikler! Sayıyı doğru tahmin ettiniz: {tutulan_sayi}\")\n",
    "                break\n",
    "            \n",
    "            if deneme == deneme_hakki - 1:\n",
    "                print(f\"Üzgünüm, deneme haklarınız bitti. Tutulan sayı: {tutulan_sayi}\")\n",
    "        \n",
    "        except ValueError:\n",
    "            print(\"Lütfen geçerli bir sayı girin.\")\n",
    "\n",
    "# Oyun başlat\n",
    "tahmin_oyunu()\n"
   ]
  },
  {
   "cell_type": "code",
   "execution_count": null,
   "id": "7d209974-0652-49af-9187-792ef921b16c",
   "metadata": {},
   "outputs": [],
   "source": []
  }
 ],
 "metadata": {
  "kernelspec": {
   "display_name": "Python 3 (ipykernel)",
   "language": "python",
   "name": "python3"
  },
  "language_info": {
   "codemirror_mode": {
    "name": "ipython",
    "version": 3
   },
   "file_extension": ".py",
   "mimetype": "text/x-python",
   "name": "python",
   "nbconvert_exporter": "python",
   "pygments_lexer": "ipython3",
   "version": "3.11.2"
  }
 },
 "nbformat": 4,
 "nbformat_minor": 5
}
